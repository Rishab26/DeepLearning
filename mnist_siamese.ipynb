{
 "cells": [
  {
   "cell_type": "markdown",
   "metadata": {},
   "source": [
    "# Learning an embedding function with a `Siamese' Network\n",
    "\n",
    "Learning objectives: \n",
    "\n",
    "* to understand the point of learning an embedding function for one-shot learning\n",
    "\n",
    "* to see how to construct two (or more) networks with shared weights in Keras\n",
    "\n",
    "* to train an embedding function using a Siamese network with contrastive divergence, and understand how to assess its performance\n",
    "\n",
    "* to see how subgraphs constructed in Tensorflow can be combined with a Keras network. "
   ]
  },
  {
   "cell_type": "code",
   "execution_count": 5,
   "metadata": {},
   "outputs": [],
   "source": [
    "# as usual we import numpy and matplotlib in the conventional way\n",
    "\n",
    "import numpy as np\n",
    "\n",
    "import matplotlib.pyplot as plt\n",
    "%matplotlib inline"
   ]
  },
  {
   "cell_type": "code",
   "execution_count": 28,
   "metadata": {},
   "outputs": [],
   "source": [
    "# as usual, you may need to use a different path for importing keras and its functions\n",
    "\n",
    "from tensorflow.keras.layers import Conv2D, MaxPooling2D, Input, Dense, Flatten, Lambda\n",
    "from tensorflow.keras.models import Model"
   ]
  },
  {
   "cell_type": "code",
   "execution_count": 54,
   "metadata": {},
   "outputs": [],
   "source": [
    "from tensorflow.keras.datasets import mnist"
   ]
  },
  {
   "cell_type": "code",
   "execution_count": 55,
   "metadata": {},
   "outputs": [],
   "source": [
    "# `mnist.load_data` is a utility function provided with Keras that loads the MNIST dataset into convenient \n",
    "# variables: oh that data handling were always so simple. \n",
    "\n",
    "(x_train, y_train), (x_test, y_test) = mnist.load_data()"
   ]
  },
  {
   "cell_type": "code",
   "execution_count": 56,
   "metadata": {},
   "outputs": [
    {
     "data": {
      "text/plain": [
       "numpy.ndarray"
      ]
     },
     "execution_count": 56,
     "metadata": {},
     "output_type": "execute_result"
    }
   ],
   "source": [
    "# These are arrays of small digits - but for this practical we will normalise them (as is good practice)\n",
    "# to have zero mean and sensible sizes (in the region of 1)\n",
    "\n",
    "type(x_train)"
   ]
  },
  {
   "cell_type": "code",
   "execution_count": 57,
   "metadata": {},
   "outputs": [
    {
     "data": {
      "text/plain": [
       "(60000, 28, 28)"
      ]
     },
     "execution_count": 57,
     "metadata": {},
     "output_type": "execute_result"
    }
   ],
   "source": [
    "x_train.shape"
   ]
  },
  {
   "cell_type": "code",
   "execution_count": 58,
   "metadata": {},
   "outputs": [
    {
     "data": {
      "text/plain": [
       "(28, 28)"
      ]
     },
     "execution_count": 58,
     "metadata": {},
     "output_type": "execute_result"
    }
   ],
   "source": [
    "# let's plot the average value of each pixel in the images\n",
    "\n",
    "mean_image = np.mean(x_train, axis=0)\n",
    "mean_image.shape"
   ]
  },
  {
   "cell_type": "code",
   "execution_count": 59,
   "metadata": {},
   "outputs": [
    {
     "data": {
      "text/plain": [
       "<matplotlib.colorbar.Colorbar at 0x13bd45588>"
      ]
     },
     "execution_count": 59,
     "metadata": {},
     "output_type": "execute_result"
    },
    {
     "data": {
      "image/png": "[encoded data removed]",
      "text/plain": [
       "<Figure size 432x288 with 2 Axes>"
      ]
     },
     "metadata": {
      "needs_background": "light"
     },
     "output_type": "display_data"
    }
   ],
   "source": [
    "# now plot it - some pixels are going to be more important than others\n",
    "# in the MNIST dataset, the digits have been centred. The maximum value\n",
    "# is 255, and the \n",
    "plt.imshow( mean_image)\n",
    "plt.colorbar()\n"
   ]
  },
  {
   "cell_type": "code",
   "execution_count": 60,
   "metadata": {},
   "outputs": [
    {
     "data": {
      "text/plain": [
       "array([  0,   0,   0,   0,   0,   0,   0,   0,   0,   0,   0,   0,   0,\n",
       "         0,   0,   0,   0,   0,   0,   0,   0,   0,   0,   0,   0,   0,\n",
       "         0,   0,   0,   0,   0,   0,   0,   0,   0,   0,   0,   0,   0,\n",
       "         0,   0,   0,   0,   0,   0,   0,   0,   0,   0,   0,   0,   0,\n",
       "         0,   0,   0,   0,   0,   0,   0,   0,   0,   0,   0,   0,   0,\n",
       "         0,   0,   0,   0,   0,   0,   0,   0,   0,   0,   0,   0,   0,\n",
       "         0,   0,   0,   0,   0,   0,   0,   0,   0,   0,   0,   0,   0,\n",
       "         0,   0,   0,   0,   0,   0,   0,   0,   0,   0,   0,   0,   0,\n",
       "         0,   0,   0,   0,   0,   0,   0,   0,   0,   0,   0,   0,   0,\n",
       "         0,   0,   0,   0,   0,   0,   0,   0,   0,   0,   0,   0,   0,\n",
       "         0,   0,   0,   0,   0,   0,   0,   0,   0,   0,   0,   0,   0,\n",
       "         0,   0,   0,   0,   0,   0,   0,   0,   0,   3,  18,  18,  18,\n",
       "       126, 136, 175,  26, 166, 255, 247, 127,   0,   0,   0,   0,   0,\n",
       "         0,   0,   0,   0,   0,   0,   0,  30,  36,  94, 154, 170, 253,\n",
       "       253, 253, 253, 253, 225, 172, 253, 242, 195,  64,   0,   0,   0,\n",
       "         0,   0,   0,   0,   0,   0,   0,   0,  49, 238, 253, 253, 253,\n",
       "       253, 253, 253, 253, 253, 251,  93,  82,  82,  56,  39,   0,   0,\n",
       "         0,   0,   0,   0,   0,   0,   0,   0,   0,   0,  18, 219, 253,\n",
       "       253, 253, 253, 253, 198, 182, 247, 241,   0,   0,   0,   0,   0,\n",
       "         0,   0,   0,   0,   0,   0,   0,   0,   0,   0,   0,   0,   0,\n",
       "        80, 156, 107, 253, 253, 205,  11,   0,  43, 154,   0,   0,   0,\n",
       "         0,   0,   0,   0,   0,   0,   0,   0,   0,   0,   0,   0,   0,\n",
       "         0,   0,   0,  14,   1, 154, 253,  90,   0,   0,   0,   0,   0,\n",
       "         0,   0,   0,   0,   0,   0,   0,   0,   0,   0,   0,   0,   0,\n",
       "         0,   0,   0,   0,   0,   0,   0, 139, 253, 190,   2,   0,   0,\n",
       "         0,   0,   0,   0,   0,   0,   0,   0,   0,   0,   0,   0,   0,\n",
       "         0,   0,   0,   0,   0,   0,   0,   0,   0,  11, 190, 253,  70,\n",
       "         0,   0,   0,   0,   0,   0,   0,   0,   0,   0,   0,   0,   0,\n",
       "         0,   0,   0,   0,   0,   0,   0,   0,   0,   0,   0,   0,  35,\n",
       "       241, 225, 160, 108,   1,   0,   0,   0,   0,   0,   0,   0,   0,\n",
       "         0,   0,   0,   0,   0,   0,   0,   0,   0,   0,   0,   0,   0,\n",
       "         0,   0,  81, 240, 253, 253, 119,  25,   0,   0,   0,   0,   0,\n",
       "         0,   0,   0,   0,   0,   0,   0,   0,   0,   0,   0,   0,   0,\n",
       "         0,   0,   0,   0,   0,  45, 186, 253, 253, 150,  27,   0,   0,\n",
       "         0,   0,   0,   0,   0,   0,   0,   0,   0,   0,   0,   0,   0,\n",
       "         0,   0,   0,   0,   0,   0,   0,   0,  16,  93, 252, 253, 187,\n",
       "         0,   0,   0,   0,   0,   0,   0,   0,   0,   0,   0,   0,   0,\n",
       "         0,   0,   0,   0,   0,   0,   0,   0,   0,   0,   0,   0, 249,\n",
       "       253, 249,  64,   0,   0,   0,   0,   0,   0,   0,   0,   0,   0,\n",
       "         0,   0,   0,   0,   0,   0,   0,   0,   0,   0,   0,  46, 130,\n",
       "       183, 253, 253, 207,   2,   0,   0,   0,   0,   0,   0,   0,   0,\n",
       "         0,   0,   0,   0,   0,   0,   0,   0,   0,   0,   0,  39, 148,\n",
       "       229, 253, 253, 253, 250, 182,   0,   0,   0,   0,   0,   0,   0,\n",
       "         0,   0,   0,   0,   0,   0,   0,   0,   0,   0,   0,  24, 114,\n",
       "       221, 253, 253, 253, 253, 201,  78,   0,   0,   0,   0,   0,   0,\n",
       "         0,   0,   0,   0,   0,   0,   0,   0,   0,   0,   0,  23,  66,\n",
       "       213, 253, 253, 253, 253, 198,  81,   2,   0,   0,   0,   0,   0,\n",
       "         0,   0,   0,   0,   0,   0,   0,   0,   0,   0,   0,  18, 171,\n",
       "       219, 253, 253, 253, 253, 195,  80,   9,   0,   0,   0,   0,   0,\n",
       "         0,   0,   0,   0,   0,   0,   0,   0,   0,   0,   0,  55, 172,\n",
       "       226, 253, 253, 253, 253, 244, 133,  11,   0,   0,   0,   0,   0,\n",
       "         0,   0,   0,   0,   0,   0,   0,   0,   0,   0,   0,   0,   0,\n",
       "       136, 253, 253, 253, 212, 135, 132,  16,   0,   0,   0,   0,   0,\n",
       "         0,   0,   0,   0,   0,   0,   0,   0,   0,   0,   0,   0,   0,\n",
       "         0,   0,   0,   0,   0,   0,   0,   0,   0,   0,   0,   0,   0,\n",
       "         0,   0,   0,   0,   0,   0,   0,   0,   0,   0,   0,   0,   0,\n",
       "         0,   0,   0,   0,   0,   0,   0,   0,   0,   0,   0,   0,   0,\n",
       "         0,   0,   0,   0,   0,   0,   0,   0,   0,   0,   0,   0,   0,\n",
       "         0,   0,   0,   0,   0,   0,   0,   0,   0,   0,   0,   0,   0,\n",
       "         0,   0,   0,   0,   0,   0,   0,   0,   0,   0,   0,   0,   0,\n",
       "         0,   0,   0,   0], dtype=uint8)"
      ]
     },
     "execution_count": 60,
     "metadata": {},
     "output_type": "execute_result"
    }
   ],
   "source": [
    "# if you don't know, find out what reshape(-1) does with a numpy array\n",
    "x_train[0].reshape(-1)"
   ]
  },
  {
   "cell_type": "code",
   "execution_count": 61,
   "metadata": {},
   "outputs": [],
   "source": [
    "# here we are using broadcasting to subtract the mean values for each pixel \n",
    "# broadcasting is a short-cut to combining to numpy arrays of different shapes\n",
    "\n",
    "# check the shape of np.mean( x_train, axis=0)\n",
    "# it has one less dimension than x_train, so how can we subtract it? \n",
    "# What we want to do is subtract the mean image from all the images - and broadcasting\n",
    "# automatically does this, because the mean of all the images is the same shape as one image; \n",
    "# broadcasting automatically subtracts the mean image from each image in the array x_train\n",
    "\n",
    "# look up numpy broadcasting to see why\n",
    "\n",
    "# hmmm: I wrote this code hastily, and it breaks a cardinal rule of scripts. Why should I (preferably) not\n",
    "# redefine x_train and x_test (provided I have enough RAM) ? \n",
    "# Why, in this case, does it not matter much? \n",
    "x_train = x_train.astype(float) - np.mean(x_train,axis=0)\n",
    "x_test = x_test.astype(float) - np.mean(x_test,axis=0)"
   ]
  },
  {
   "cell_type": "code",
   "execution_count": 62,
   "metadata": {},
   "outputs": [
    {
     "data": {
      "text/plain": [
       "(array([272.,  58.,  51.,  36.,  39.,  27.,  30.,  36.,  45., 190.]),\n",
       " array([  0.        ,  11.38130593,  22.76261187,  34.1439178 ,\n",
       "         45.52522373,  56.90652966,  68.2878356 ,  79.66914153,\n",
       "         91.05044746, 102.43175339, 113.81305933]),\n",
       " <a list of 10 Patch objects>)"
      ]
     },
     "execution_count": 62,
     "metadata": {},
     "output_type": "execute_result"
    },
    {
     "data": {
      "image/png": "[encoded data removed]",
      "text/plain": [
       "<Figure size 432x288 with 1 Axes>"
      ]
     },
     "metadata": {
      "needs_background": "light"
     },
     "output_type": "display_data"
    }
   ],
   "source": [
    "# as always, look at the values in the data. \n",
    "# what are the standard deviations of pixels, over the dataset? \n",
    "\n",
    "# x_train.reshape((-1,784)) reshapes each image into a 784 element row vector, so we have a 60000x784 \n",
    "# matrix, with one column corresponding to each pixel\n",
    "\n",
    "# next, compute the std of each\n",
    "\n",
    "plt.hist( np.std( x_train.reshape((-1,784)), axis=0))"
   ]
  },
  {
   "cell_type": "code",
   "execution_count": 63,
   "metadata": {},
   "outputs": [
    {
     "data": {
      "text/plain": [
       "(array([ 2227990.,  4185166.,  5607927., 28283466.,   762712.,   794247.,\n",
       "         1677842.,  2265744.,   884265.,   350641.]),\n",
       " array([-2.1103304 , -1.51371851, -0.91710663, -0.32049474,  0.27611715,\n",
       "         0.87272903,  1.46934092,  2.0659528 ,  2.66256469,  3.25917658,\n",
       "         3.85578846]),\n",
       " <a list of 10 Patch objects>)"
      ]
     },
     "execution_count": 63,
     "metadata": {},
     "output_type": "execute_result"
    },
    {
     "data": {
      "image/png": "[encoded data removed]",
      "text/plain": [
       "<Figure size 432x288 with 1 Axes>"
      ]
     },
     "metadata": {
      "needs_background": "light"
     },
     "output_type": "display_data"
    }
   ],
   "source": [
    "# Normalising the values is quite tricky: we want to get the values to have a standard deviation of roughly\n",
    "# one - but this may not be possible or reasonable, because some pixels are zero in nearly all the images. \n",
    "# We don't want to make these pixel values enormous for the very few images in which they appear\n",
    "\n",
    "# So a reasonable normalisation which will make all pixel values have small, reasonable values is to \n",
    "# divide all pixel values by the standard deviation of _all_ pixel values.\n",
    "\n",
    "std_train = np.std( x_train.reshape(-1) )\n",
    "\n",
    "x_train = x_train / std_train\n",
    "x_test = x_test / std_train\n",
    "\n",
    "plt.hist( x_train.reshape(-1))\n",
    "\n",
    "# Looks ok - all pixel avlues are between -2 and +4\n",
    "# this makes learning faster in the initial stages; if the first layer has saturating neurons\n",
    "# ( such as neurons with activation tanh) then large input values can cause all the neurons to \n",
    "# saturate, forcing all gradients small, which slows down learning in the initial stages. "
   ]
  },
  {
   "cell_type": "code",
   "execution_count": 64,
   "metadata": {},
   "outputs": [
    {
     "data": {
      "text/plain": [
       "(60000, 28, 28)"
      ]
     },
     "execution_count": 64,
     "metadata": {},
     "output_type": "execute_result"
    }
   ],
   "source": [
    "x_train.shape"
   ]
  },
  {
   "cell_type": "markdown",
   "metadata": {},
   "source": [
    "# Constructing the Training and Test Data for a Siamese Network\n",
    "\n",
    "One difference between learning an embedding and classification learning is that to learn an embedding, \n",
    "we want to train according to the distances betweeen pairs of items. \n",
    "\n",
    "Each training example consists of ***two*** digit images, and the label `y` will be 0 if the images are similar (in this case, if they are of the same digit), and 1 if they are different. \n",
    "\n",
    "In learning an embedding, we seek to adjust the embedding function to make the embedding vectors of similar pairs be close together, and the embedding vectors of different pairs to be a distance of at least one apart. \n",
    "\n",
    "First, we need to construct a training set of pairs of digit-images, together with the appropriate `y` values. "
   ]
  },
  {
   "cell_type": "code",
   "execution_count": 65,
   "metadata": {},
   "outputs": [],
   "source": [
    "# Now construct a data set \n",
    "\n",
    "# probability of success is 1/10, so to get equal probability of match and non-match\n",
    "# we can with accept a different pair with probability 1/9 \n",
    "\n",
    "# It looks as if we need a list of 2 isomorphic arrays of digits, and an array of labels\n",
    "\n",
    "# Each label is 0 if the two images are of the same digit, and 1 if they are of different digits\n",
    "\n",
    "from random import randint  # a useful function\n",
    "\n",
    "def construct_pairs_dataset( n_data, mnist_images, mnist_labels):\n",
    "    n_mnist = mnist_images.shape[0]\n",
    "    assert mnist_labels.shape[0] == mnist_images.shape[0]\n",
    "    x_shape = (n_data, 28, 28, 1)\n",
    "    x_train1 = np.zeros(x_shape)\n",
    "    x_train2 = np.zeros(x_shape)\n",
    "    y_train = np.zeros([n_data,1])\n",
    "    # randomly select a pair of indices in the training data\n",
    "    \n",
    "    for i in range(0,n_data):\n",
    "        while True: # this while True .... break idiom is Pythonic for do...while .  Yuk, I agree. \n",
    "            while True:\n",
    "                x1 = randint(0,n_data-1)\n",
    "                x2 = randint(0,n_data-1)\n",
    "                if x1 != x2:  # we can get a division by zero bug later if two images are exactly the same\n",
    "                    break\n",
    "            # see if they are same or different, randomly accept\n",
    "            if mnist_labels[x1] == mnist_labels[x2]:\n",
    "                y_train[i,0] = 0\n",
    "                break\n",
    "            else:\n",
    "                if np.random.random() < 0.111111111:\n",
    "                    y_train[i,0] = 1\n",
    "                    break\n",
    "        x_train1[i,:,:,0] = mnist_images[x1]\n",
    "        x_train2[i,:,:,0] = mnist_images[x2]\n",
    "    \n",
    "    return ( [x_train1, x_train2], y_train )"
   ]
  },
  {
   "cell_type": "code",
   "execution_count": 66,
   "metadata": {},
   "outputs": [],
   "source": [
    "pairs_train, py_train = construct_pairs_dataset( 2000, x_train, y_train)\n",
    "pairs_test, py_test = construct_pairs_dataset( 2000, x_test, y_test)"
   ]
  },
  {
   "cell_type": "code",
   "execution_count": 67,
   "metadata": {},
   "outputs": [],
   "source": [
    "#  Now let's just check that our pairs data really is what we think it is\n",
    "\n",
    "pairs0 = pairs_train[0]\n",
    "pairs1 = pairs_train[1]\n"
   ]
  },
  {
   "cell_type": "code",
   "execution_count": 68,
   "metadata": {},
   "outputs": [
    {
     "data": {
      "text/plain": [
       "array([0.])"
      ]
     },
     "execution_count": 68,
     "metadata": {},
     "output_type": "execute_result"
    },
    {
     "data": {
      "image/png": "[encoded data removed]",
      "text/plain": [
       "<Figure size 432x288 with 2 Axes>"
      ]
     },
     "metadata": {
      "needs_background": "light"
     },
     "output_type": "display_data"
    }
   ],
   "source": [
    "# we define idx to be any valid index for the training data, and then we plot both images, and also print the \n",
    "# corresponding `y` value. We can then see if images of the same digit do have y==0, and of different digits\n",
    "# do have y==1. \n",
    "\n",
    "idx = 11\n",
    "fig,ax = plt.subplots(nrows=1, ncols=2, sharex=True, sharey=True)\n",
    "ax = ax.flatten()\n",
    "ax[0].imshow( pairs0[idx,:,:,0]) \n",
    "ax[1].imshow( pairs1[idx,:,:,0])\n",
    "py_train[idx]"
   ]
  },
  {
   "cell_type": "markdown",
   "metadata": {},
   "source": [
    "# Constructing the Siamese network\n",
    "\n",
    "We construct the embedding network and the Siamese network separately.  The embedding network is used as a component in the Siamese network. \n",
    "\n",
    "But first we need to define Tensorflow functions for Euclidean distances (this will compute the distances between embedding vectors that we wish to minimise), and for the contrastive divergence\n"
   ]
  },
  {
   "cell_type": "code",
   "execution_count": 69,
   "metadata": {},
   "outputs": [],
   "source": [
    "# this imports Tensorflow (this is a conventional import statement: someone else\n",
    "# using the code might be using a different backend for Keras)\n",
    "\n",
    "import tensorflow.keras.backend as K"
   ]
  },
  {
   "cell_type": "code",
   "execution_count": 70,
   "metadata": {},
   "outputs": [],
   "source": [
    "# this function deserves careful scrutiny\n",
    "\n",
    "# It looks as if it is operating on arrays of numbers: actually it is defining a Tensorflow \n",
    "# program ( a computational graph) that computes a new tensor, containing the euclidean distances\n",
    "# between corresponding rows in the two \n",
    "\n",
    "def euclidean_distances_of_rows(inputs):\n",
    "    \"\"\"\n",
    "    inputs is a list of two Tensorflow nodes, each being a tensor (array) with at least two dimensions;\n",
    "    this then defines a program to compute the \n",
    "    \"\"\"\n",
    "    assert len(inputs) == 2, \\\n",
    "        'List/tuple of length 2 needed: argument length is %d ' % len(inputs)\n",
    "    u, v = inputs\n",
    "    return K.sqrt( K.sum( K.square(u - v), axis=1, keepdims=True) )"
   ]
  },
  {
   "cell_type": "code",
   "execution_count": 71,
   "metadata": {},
   "outputs": [],
   "source": [
    "# this function defines a Tensorflow graph that computes contrastive loss\n",
    "# it looks deceptively like a Python function, but the inputs will be Tensors\n",
    "# In this case, the inputs will be a Tensor of true class labels for the current batch, \n",
    "# and a Tensor of the computed Euclidean distances for the current batch\n",
    "\n",
    "# We will use this contrastive loss instead of the log-loss we have generally been using so far. \n",
    "\n",
    "def contrastive_loss(y, d):\n",
    "    return (1-y) * K.square(d) + y * K.square( K.maximum(1 - d, 0)) "
   ]
  },
  {
   "cell_type": "code",
   "execution_count": 72,
   "metadata": {},
   "outputs": [],
   "source": [
    "# \n",
    "digit_input = Input(shape=(28, 28, 1))\n",
    "x = Flatten()(digit_input)\n",
    "x = Dense(30,activation='relu')(x)\n",
    "#x = Conv2D(20, (3, 3), activation='relu')(x)\n",
    "#x = Conv2D(20, (3, 3), activation='relu')(x)\n",
    "#x = MaxPooling2D((2, 2))(x)\n",
    "#x = Conv2D(40,(3,3),activation='relu')(x)\n",
    "#x = MaxPooling2D((2, 2))(x)\n",
    "out =  Dense(30,activation='tanh')(x)\n",
    "\n",
    "embedding_model_1 = Model(digit_input, out)"
   ]
  },
  {
   "cell_type": "code",
   "execution_count": 73,
   "metadata": {},
   "outputs": [
    {
     "name": "stdout",
     "output_type": "stream",
     "text": [
      "Model: \"model_3\"\n",
      "_________________________________________________________________\n",
      "Layer (type)                 Output Shape              Param #   \n",
      "=================================================================\n",
      "input_6 (InputLayer)         [(None, 28, 28, 1)]       0         \n",
      "_________________________________________________________________\n",
      "flatten_3 (Flatten)          (None, 784)               0         \n",
      "_________________________________________________________________\n",
      "dense_5 (Dense)              (None, 30)                23550     \n",
      "_________________________________________________________________\n",
      "dense_6 (Dense)              (None, 30)                930       \n",
      "=================================================================\n",
      "Total params: 24,480\n",
      "Trainable params: 24,480\n",
      "Non-trainable params: 0\n",
      "_________________________________________________________________\n"
     ]
    }
   ],
   "source": [
    "embedding_model_1.summary()"
   ]
  },
  {
   "cell_type": "code",
   "execution_count": 74,
   "metadata": {},
   "outputs": [],
   "source": [
    "# First, define the vision modules\n",
    "digit_input = Input(shape=(28, 28, 1))\n",
    "#x = Flatten()(digit_input)\n",
    "#x = Dense(30,activation='relu')(x)\n",
    "x = Conv2D(20, (3, 3), activation='relu')(digit_input)\n",
    "x = Conv2D(20, (3, 3), activation='relu')(x)\n",
    "x = MaxPooling2D((2, 2))(x)\n",
    "x = Conv2D(40,(3,3),activation='relu')(x)\n",
    "x = MaxPooling2D((2, 2))(x)\n",
    "x = Flatten()(x)\n",
    "out =  Dense(30,activation='tanh')(x)\n",
    "\n",
    "embedding_model_2 = Model(digit_input, out)"
   ]
  },
  {
   "cell_type": "code",
   "execution_count": 75,
   "metadata": {},
   "outputs": [
    {
     "name": "stdout",
     "output_type": "stream",
     "text": [
      "Model: \"model_4\"\n",
      "_________________________________________________________________\n",
      "Layer (type)                 Output Shape              Param #   \n",
      "=================================================================\n",
      "input_7 (InputLayer)         [(None, 28, 28, 1)]       0         \n",
      "_________________________________________________________________\n",
      "conv2d_3 (Conv2D)            (None, 26, 26, 20)        200       \n",
      "_________________________________________________________________\n",
      "conv2d_4 (Conv2D)            (None, 24, 24, 20)        3620      \n",
      "_________________________________________________________________\n",
      "max_pooling2d_2 (MaxPooling2 (None, 12, 12, 20)        0         \n",
      "_________________________________________________________________\n",
      "conv2d_5 (Conv2D)            (None, 10, 10, 40)        7240      \n",
      "_________________________________________________________________\n",
      "max_pooling2d_3 (MaxPooling2 (None, 5, 5, 40)          0         \n",
      "_________________________________________________________________\n",
      "flatten_4 (Flatten)          (None, 1000)              0         \n",
      "_________________________________________________________________\n",
      "dense_7 (Dense)              (None, 30)                30030     \n",
      "=================================================================\n",
      "Total params: 41,090\n",
      "Trainable params: 41,090\n",
      "Non-trainable params: 0\n",
      "_________________________________________________________________\n"
     ]
    }
   ],
   "source": [
    "embedding_model_2.summary()"
   ]
  },
  {
   "cell_type": "code",
   "execution_count": 76,
   "metadata": {},
   "outputs": [],
   "source": [
    "# This defines the Siamese network\n",
    "# note that the embedding model is used twice, but it only has one set of weights\n",
    "# compare the number of trainable weights in the summary of the Siamese model and the embedding model\n",
    "# Only one embedding model is being trained. \n",
    "\n",
    "digit_a = Input(shape=(28, 28, 1))\n",
    "digit_b = Input(shape=(28, 28, 1))\n",
    "\n",
    "# The embedding model will be shared, weights and all\n",
    "out_a = embedding_model_1(digit_a)\n",
    "out_b = embedding_model_1(digit_b)\n",
    "\n",
    "s1 = Lambda(euclidean_distances_of_rows)([out_a, out_b])\n",
    "\n",
    "embedding_distance_model = Model([digit_a, digit_b], s1)"
   ]
  },
  {
   "cell_type": "code",
   "execution_count": 77,
   "metadata": {},
   "outputs": [
    {
     "name": "stdout",
     "output_type": "stream",
     "text": [
      "Model: \"model_5\"\n",
      "__________________________________________________________________________________________________\n",
      "Layer (type)                    Output Shape         Param #     Connected to                     \n",
      "==================================================================================================\n",
      "input_8 (InputLayer)            [(None, 28, 28, 1)]  0                                            \n",
      "__________________________________________________________________________________________________\n",
      "input_9 (InputLayer)            [(None, 28, 28, 1)]  0                                            \n",
      "__________________________________________________________________________________________________\n",
      "model_3 (Model)                 (None, 30)           24480       input_8[0][0]                    \n",
      "                                                                 input_9[0][0]                    \n",
      "__________________________________________________________________________________________________\n",
      "lambda_1 (Lambda)               (None, 1)            0           model_3[1][0]                    \n",
      "                                                                 model_3[2][0]                    \n",
      "==================================================================================================\n",
      "Total params: 24,480\n",
      "Trainable params: 24,480\n",
      "Non-trainable params: 0\n",
      "__________________________________________________________________________________________________\n"
     ]
    }
   ],
   "source": [
    "embedding_distance_model.summary()"
   ]
  },
  {
   "cell_type": "code",
   "execution_count": 78,
   "metadata": {},
   "outputs": [],
   "source": [
    "embedding_distance_model.compile(loss=contrastive_loss,\n",
    "              optimizer='rmsprop')\n",
    "              #metrics=['accuracy'])"
   ]
  },
  {
   "cell_type": "markdown",
   "metadata": {},
   "source": [
    "Before training the Siamese network, let us look carefully at what is being computed\n",
    "\n",
    "The digit embeddings are computed by the embedding network"
   ]
  },
  {
   "cell_type": "code",
   "execution_count": 79,
   "metadata": {},
   "outputs": [],
   "source": [
    "# we can use the embedding model's initialised weights to predict the embedding vectors\n",
    "# for each digit in the untrained model. \n",
    "\n",
    "# look at the shapes of these\n",
    "# what are they? \n",
    "\n",
    "emb0 = embedding_model_1.predict( pairs_train[0])\n",
    "emb1 = embedding_model_1.predict( pairs_train[1])"
   ]
  },
  {
   "cell_type": "code",
   "execution_count": 80,
   "metadata": {},
   "outputs": [
    {
     "data": {
      "text/plain": [
       "array([3.3951147, 4.0174255, 3.8554375, ..., 4.5555506, 3.4912775,\n",
       "       3.2809885], dtype=float32)"
      ]
     },
     "execution_count": 80,
     "metadata": {},
     "output_type": "execute_result"
    }
   ],
   "source": [
    "# we can compute in Python distances between the embedding vectors of each pair of digit-images\n",
    "\n",
    "distances_from_emb01 = np.sqrt( np.sum( np.square( emb0 - emb1 ), axis = 1))\n",
    "distances_from_emb01"
   ]
  },
  {
   "cell_type": "code",
   "execution_count": 81,
   "metadata": {},
   "outputs": [
    {
     "data": {
      "text/plain": [
       "array([[3.3951147],\n",
       "       [4.0174255],\n",
       "       [3.8554373],\n",
       "       ...,\n",
       "       [4.5555506],\n",
       "       [3.491277 ],\n",
       "       [3.2809885]], dtype=float32)"
      ]
     },
     "execution_count": 81,
     "metadata": {},
     "output_type": "execute_result"
    }
   ],
   "source": [
    "# the output (not the losses) of the Siamese network should be the same numbers - the distances between \n",
    "# pairs of embedding vectors\n",
    "\n",
    "distances = embedding_distance_model.predict(pairs_train)\n",
    "distances"
   ]
  },
  {
   "cell_type": "code",
   "execution_count": 82,
   "metadata": {},
   "outputs": [
    {
     "data": {
      "text/plain": [
       "[<matplotlib.lines.Line2D at 0x143214b38>]"
      ]
     },
     "execution_count": 82,
     "metadata": {},
     "output_type": "execute_result"
    },
    {
     "data": {
      "image/png": "[encoded data removed]",
      "text/plain": [
       "<Figure size 432x288 with 1 Axes>"
      ]
     },
     "metadata": {
      "needs_background": "light"
     },
     "output_type": "display_data"
    }
   ],
   "source": [
    "# let's check that the distances computed by the Siamese network, and the distances we computed \n",
    "# in Python, are really the same, by plotting them against each other\n",
    "\n",
    "# note that I reshape the network output to make it a one-dimensional vector\n",
    "plt.plot( distances.reshape([-1]), distances_from_emb01, '.')\n",
    "\n",
    "# this graph should be a straight line corresponding to the identity function ! "
   ]
  },
  {
   "cell_type": "code",
   "execution_count": 83,
   "metadata": {},
   "outputs": [],
   "source": [
    "# now calculate what the loss should be\n",
    "\n",
    "# this is a function that computes the contrastive loss in Python (as opposed to Tensorflow)\n",
    "def python_contrastive_loss( y, d):\n",
    "    return  (( (1-y) * np.square(d)) + y * np.square( np.maximum(1-d,0)))\n",
    "\n",
    "# Now use this function to compute the mean contrastive loss over the training set, "
   ]
  },
  {
   "cell_type": "code",
   "execution_count": 84,
   "metadata": {},
   "outputs": [],
   "source": [
    "pcl = python_contrastive_loss( py_train, distances)"
   ]
  },
  {
   "cell_type": "code",
   "execution_count": 85,
   "metadata": {},
   "outputs": [
    {
     "data": {
      "text/plain": [
       "6.558873298704624"
      ]
     },
     "execution_count": 85,
     "metadata": {},
     "output_type": "execute_result"
    }
   ],
   "source": [
    "np.mean(pcl)"
   ]
  },
  {
   "cell_type": "code",
   "execution_count": 86,
   "metadata": {},
   "outputs": [
    {
     "name": "stdout",
     "output_type": "stream",
     "text": [
      "\r",
      "2000/1 [================================================================================================================================================================================================================================================================================================================================================================================================================================================================================================================================================================================================================================================================================================================================================================================================================================================================================================================================================================================================================================================================================================================================================================================================================================================================================================================================================================================================================================================================================================================================================================================================================================================================================================================================================================================================================================================================================================================================================================================================================================================================================================================================================================================================================================================================================================================================================================================================================================================================================================================================================================================================================================================================================================================================================================================================================================================================================================================================================================================================================================================================================================================================================================================================================================================================================================================================================================================================================================================================================================================================================================================================================================================================================================================================================================================================================================================================================================================================================================================================================================================================================================================================================================================================================================================================================================================================================================================================================================================================================================================================================================================================================================================================================================================================================================================================================================================================================================================================================================================================================================================================================================================================================================================================================================================================================================================================================================================================================================================================================================================================================================================================================================================================================================================================================================================================================================================================================================================================================================================================================================================================================================================================================================================================================================================================================================================================================================================================================================================================================================================================================================================================================================================================================================================================================================================================================================================================================================================================================================================================================================================================================================================================================================================================================================================================================================================================================================================================================================================================================================================================================================================================================================================================================================================================================================================================================================================================================================================================================================================================================================================================================================================================================================================================================================================================================================================================================================================================================================================================================================================================================================================================================================================================================================================================================================================================================================================================================================================================================================================================================================================================================================================================================================================================================================================================================================================================================================================================================================================================================================================================================================================================================================================================================================================================================================================================================================================================================================================================================================================================================================================================================================================================================================================================================================================================================================================================================================================================================================================================================================================================================================================================================================================================================================================================================================================================================================================================================================================================================================================================================================================================================================================================================================================================================================================================================================================================================================================================================================================================================================================================================================================================================================================================================================================================================================================================================================================================================================================================================================================================================================================================================================================================================================================================================================================================================================================================================================================================================================================================================================================================================================================================================================================================================================================================================================================================================================================================================================================================================================================================================================================================================================================================================================================================================================================================================================================================================================================================================================================================================================================================================================================================================================================================================================================================================================================================================================================================================================================================================================================================================================================================================================================================================================================================================================================================================================================================================================================================================================================================================================================================================================================================================================================================================================================================================================================================================================================================================================================================================================================================================================================================================================================================================================================================================================================================================================================================================================================================================================================================================================================================================================================================================================================================================================================================================================================================================================================================================================================================================================================================================================================================================================================================================================================================================================================================================================================================================================================================================================================================================================================================================================================================================================================================================================================================================================================================================================================================================================================================================================================================================================================================================================================================================================================================================================================================================================================================================================================================================================================================================================================================================================================================================================================================================================================================================================================================================================================================================================================================================================================================================================================================================================================================================================================================================================================================================================================================================================================================================================================================================================================================================================================================================================================================================================================================================================================================================================================================================================================================================================================================================================================================================================================================================================================================================================================================================================================================================================================================================================================================================================================================================================================================================================================================================================================================================================================================================================================================================================================================================================================================================================================================================================================================================================================================================================================================================================================================================================================================================================================================================================================================================================================================================================================================================================================================================================================================================================================================================================================================================================================================================================================================================================================================================================================================================================================================================================================================================================================================================================================================================================================================================================================================================================================================================================================================================================================================================================================================================================================================================================================================================================================================================================================================================================================================================================================================================================================================================================================================================================================================================================================================================================================================================================================================================================================================================================================================================================================================================================================================================================================================================================================================================================================================================================================================================================================================================================================================================================================================================================================================================================================================================================================================================================================================================================================================================================================================================================================================================================================================================================================================================================================================================================================================================================================================================================================================================================================================================================================================================================================================================================================================================================================================================================================================================================================================================================================================================================================================================================================================================================================================================================================================================================================================================================================================================================================================================================================================================================================================================================================================================================================================================================================================================================================================================================================================================================================================================================================================================================================================================================================================================================================================================================================================================================================================================================================================================================================================================================================================================================================================================================================================================================================================================================================================================================================================================================================================================================================================================================================================================================================================================================================================================================================================================================================================================================================================================================================================================================================================================================================================================================================================================================================================================================================================================================================================================================================================================================================================================================================================================================================================================================================================================================================================================================================================================================================================================================================================================================================================================================================================================================================================================================================================================================================================================================================================================================================================================================================================================================================================================================================================================================================================================================================================================================================================================================================================================================================================================================================================================================================================================================================================================================================================================================================================================================================================================================================================================================================================================================================================================================================================================================================================================================================================================================================================================================================================================================================================================================================================================================================================================================================================================================================================================================================================================================================================================================================================================================================================================================================================================================================================================================================================================================================================================================================================================================================================================================================================================================================================================================================================================================================================================================================================================================================================================================================================================================================================================================================================================================================================================================================================================================================================================================================================================================================================================================================================================================================================================================================================================================================================================================================================================================================================================================================================================================================================================================================================================================================================================================================================================================================================================================================================================================================================================================================================================================================================================================================================================================================================================================================================================================================================================================================================================================================================================================================================================================================================================================================================================================================================================================================================================================================================================================================================================================================================================================================================================================================================================================================================================================================================================================================================================================================================================================================================================================================================================================================================================================================================================================================================================================================================================================================================================================================================================================================================================================================================================================================================================================================================================================================================================================================================================================================================================================================================================================================================================================================================================================================================================================================================================================================================================================================================================================================================================================================================================================================================================================================================================================================================================================================================================================================================================================================================================================================================================================================================================================================================================================================================================================================================================================================================================================================================================================================================================================================================================================================================================================================================================================================================================================================================================================================================================================================================================================================================================================================================================================================================================================================================================================================================================================================================================================================================================================================================================================================================================================================================================================================================================================================================================================================================================================================================================================================================================================================================================================================================================================================================================================================================================================================================================================================================================================================================================================================================================================================================================================================================================================================================================================================================================================================================================================================================================================================================================================================================================================================================================================================================================================================================================================================================================================================================================================================================================================================================================================================================================================================================================================================================================================================================================================================================================================================================================================================================================================================================================================================================================================================================================================================================================================================================================================================================================================================================================================================================================================================================================================================================================================================================================================================================================================================================================================================================================================================================================================================================================================================================================================================================================================================================================================================================================================================================================================================================================================================================================================================================================================================================================================================================================================================================================================================================================================================================================================================================================================================================================================================================================================================================================================================================================================================================================================================================================================================================================================================================================================================================================================================================================================================================================================================================================================================================================================================================================================================================================================================================================================================================================================================================================================================================================================================================================================================================================================================================================================================================================================================================================================================================================================================================================================================================================================================================================================================================================================================================================================================================================================================================================================================================================================================================================================================================================================================================================================================================================================================================================================================================================================================================================================================================================================================================================================================================================================================================================================================================================================================================================================================================================================================================================================================================================================================================================================================================================================================================================================================================================================================================================================================================================================================================================================================================================================================================================================================================================================================================================================================================================================================================================================================================================================================================================================================================================================================================================================================================================================================================================================================================================================================================================================================================================================================================================================================================================================================================================================================================================================================================================================================================================================================================================================================================================================================================================================================================================================================================================================================================================================================================================================================================================================================================================================================================================================================================================================================================================================================================================================================================================================================================================================================================================================================================================================================================================================================================================================================================================================================================================================================================================================================================================================================================================================================================================================================================================================================================================================================================================================================================================================================================================================================================================================================================================================================================================================================================================================================================================================================================================================================================================================================================================================================================================================================================================================================================================================================================================================================================================================================================================================================================================================================================================================================================================================================================================================================================================================================================================================================================================================================================================================================================================================================================================================================================================================================================================================================================================================================================================================================================================================================================================================================================================================================================================================================================================================================================================================================================================================================================================================================================================================================================================================================================================================================================================================================================================================================================================================================================================================================================================================================================================================================================================================================================================================================================================================================================================================================================================================================================================================================================================================================================================================================================================================================================================================================================================================================================================================================================================================================================================================================================================================================================================================================================================================================================================================================================================================================================================================================================================================================================================================================================================================================================================================================================================================================================================================================================================================================================================================================================================================================================================================================================================================================================================================================================================================================================================================================================================================================================================================================================================================================================================================================================================================================================================================================================================================================================================================================================================================================================================================================================================================================================================================================================================================================================================================================================================================================================================================================================================================================================================================================================================================================================================================================================================================================================================================================================================================================================================================================================================================================================================================================================================================================================================================================================================================================================================================================================================================================================================================================================================================================================================================================================================================================================================================================================================================================================================================================================================================================================================================================================================================================================================================================================================================================================================================================================================================================================================================================================================================================================================================================================================================================================================================================================================================================================================================================================================================================================================================================================================================================================================================================================================================================================================================================================================================================================================================================================================================================================================================================================================================================================================================================================================================================================================================================================================================================================================================================================================================================================================================================================================================================================================================================================================================================================================================================================================================================================================================================================================================================================================================================================================================================================================================================================================================================================================================================================================================================================================================================================================================================================================================================================================================================================================================================================================================================================================================================================================================================================================================================================================================================================================================================================================================================================================================================================================================================================================================================================================================================================================================================================================================================================================================================================================================================================================================================================================================================================================================================================================================================================================================================================================================================================================================================================================================================================================================] - 0s 69us/sample - loss: 6.3977\n"
     ]
    }
   ],
   "source": [
    "# we can evaluate the loss of the untrained Siamese network on the training data:\n",
    "# The loss should be the same as the one we computed in Python, above.\n",
    "\n",
    "evals = embedding_distance_model.evaluate( pairs_train, py_train)"
   ]
  },
  {
   "cell_type": "code",
   "execution_count": 87,
   "metadata": {},
   "outputs": [
    {
     "data": {
      "text/plain": [
       "6.558873210906983"
      ]
     },
     "execution_count": 87,
     "metadata": {},
     "output_type": "execute_result"
    }
   ],
   "source": [
    "evals"
   ]
  },
  {
   "cell_type": "code",
   "execution_count": 88,
   "metadata": {},
   "outputs": [
    {
     "name": "stdout",
     "output_type": "stream",
     "text": [
      "Train on 2000 samples, validate on 2000 samples\n",
      "Epoch 1/5\n",
      "2000/2000 [==============================] - 1s 355us/sample - loss: 4.1400 - val_loss: 3.1632\n",
      "Epoch 2/5\n",
      "2000/2000 [==============================] - 0s 45us/sample - loss: 2.0181 - val_loss: 2.2298\n",
      "Epoch 3/5\n",
      "2000/2000 [==============================] - 0s 42us/sample - loss: 1.2229 - val_loss: 1.5910\n",
      "Epoch 4/5\n",
      "2000/2000 [==============================] - 0s 45us/sample - loss: 0.7371 - val_loss: 1.0833\n",
      "Epoch 5/5\n",
      "2000/2000 [==============================] - 0s 55us/sample - loss: 0.4264 - val_loss: 0.7292\n"
     ]
    }
   ],
   "source": [
    "# now fit the Siamese model\n",
    "# I have put episodes = 5, but you may need more episodes to complete the training\n",
    "\n",
    "history = embedding_distance_model.fit(pairs_train, py_train, batch_size=100, \n",
    "                                   epochs=5, shuffle=True, validation_data=(pairs_test,py_test))\n"
   ]
  },
  {
   "cell_type": "code",
   "execution_count": 89,
   "metadata": {},
   "outputs": [],
   "source": [
    "# Now let's plot the distances between same-digit pairs and different-digit pairs after training, for the \n",
    "# training and test sets\n",
    "\n",
    "preds_after_training = embedding_distance_model.predict( pairs_train).reshape(-1)\n",
    "test_preds_after_training = embedding_distance_model.predict( pairs_test).reshape(-1)"
   ]
  },
  {
   "cell_type": "code",
   "execution_count": 90,
   "metadata": {},
   "outputs": [
    {
     "data": {
      "text/plain": [
       "(0.6937268, 1.3645235)"
      ]
     },
     "execution_count": 90,
     "metadata": {},
     "output_type": "execute_result"
    }
   ],
   "source": [
    "np.mean( preds_after_training[ py_train[:,0] == 0 ]), np.mean( preds_after_training[ py_train[:,0] == 1 ])"
   ]
  },
  {
   "cell_type": "code",
   "execution_count": 91,
   "metadata": {},
   "outputs": [
    {
     "data": {
      "text/plain": [
       "(1.1114802, 1.452151)"
      ]
     },
     "execution_count": 91,
     "metadata": {},
     "output_type": "execute_result"
    }
   ],
   "source": [
    "np.mean( test_preds_after_training[ py_test[:,0] == 0 ]), np.mean( test_preds_after_training[ py_test[:,0] == 1 ])"
   ]
  },
  {
   "cell_type": "code",
   "execution_count": 92,
   "metadata": {},
   "outputs": [
    {
     "data": {
      "text/plain": [
       "(array([ 35., 112., 157., 221., 159., 147.,  74.,  51.,  25.,  15.]),\n",
       " array([0.49536943, 0.7071753 , 0.9189812 , 1.130787  , 1.342593  ,\n",
       "        1.5543988 , 1.7662046 , 1.9780105 , 2.1898165 , 2.4016223 ,\n",
       "        2.613428  ], dtype=float32),\n",
       " <a list of 10 Patch objects>)"
      ]
     },
     "execution_count": 92,
     "metadata": {},
     "output_type": "execute_result"
    },
    {
     "data": {
      "image/png": "[encoded data removed]",
      "text/plain": [
       "<Figure size 432x288 with 1 Axes>"
      ]
     },
     "metadata": {
      "needs_background": "light"
     },
     "output_type": "display_data"
    }
   ],
   "source": [
    "plt.hist( preds_after_training[ py_train[:,0] == 0 ], alpha=0.5, label='same')\n",
    "plt.hist( preds_after_training[ py_train[:,0] == 1 ], alpha=0.5, label='different')\n",
    "\n",
    "# this plot should show the training set has been clearly separated - different \n",
    "# digits are further apart than same-digits"
   ]
  },
  {
   "cell_type": "code",
   "execution_count": 93,
   "metadata": {},
   "outputs": [
    {
     "data": {
      "text/plain": [
       "(array([ 14.,  55., 141., 208., 248., 156., 105.,  53.,   8.,   3.]),\n",
       " array([0.33495006, 0.5901545 , 0.845359  , 1.1005635 , 1.355768  ,\n",
       "        1.6109724 , 1.866177  , 2.1213815 , 2.376586  , 2.6317904 ,\n",
       "        2.8869948 ], dtype=float32),\n",
       " <a list of 10 Patch objects>)"
      ]
     },
     "execution_count": 93,
     "metadata": {},
     "output_type": "execute_result"
    },
    {
     "data": {
      "image/png": "[encoded data removed]",
      "text/plain": [
       "<Figure size 432x288 with 1 Axes>"
      ]
     },
     "metadata": {
      "needs_background": "light"
     },
     "output_type": "display_data"
    }
   ],
   "source": [
    "plt.hist( test_preds_after_training[ py_test[:,0] == 0 ], alpha=0.5, label='same')\n",
    "plt.hist( test_preds_after_training[ py_test[:,0] == 1 ], alpha=0.5, label='different')\n",
    "\n",
    "# this plot may show considerable overlap still present in the test set, if there has been \n",
    "# overfitting. \n",
    "\n",
    "# some embedding networks will be much better than others! "
   ]
  },
  {
   "cell_type": "code",
   "execution_count": 94,
   "metadata": {},
   "outputs": [],
   "source": [
    "# Now construct a data set \n",
    "\n",
    "# probability of success is 1/10, so to get equal probability of match and non-match\n",
    "# we can with accept a different pair with probability 1/9 \n",
    "\n",
    "# It looks as if we need a list of 2 isomorphic arrays of digits, and an array of labels\n",
    "\n",
    "# Each label is 0 if the two images are of the same digit, and 1 if they are of different digits\n",
    "\n",
    "from random import randint  # a useful function\n",
    "\n",
    "def construct_pairs_dataset( n_data, mnist_images, mnist_labels):\n",
    "    n_mnist = mnist_images.shape[0]\n",
    "    assert mnist_labels.shape[0] == mnist_images.shape[0]\n",
    "    x_shape = (n_data, 28, 28, 1)\n",
    "    x_train1 = np.zeros(x_shape)\n",
    "    x_train2 = np.zeros(x_shape)\n",
    "    y_train = np.zeros([n_data,1])\n",
    "    # randomly select a pair of indices in the training data\n",
    "    \n",
    "    for i in range(0,n_data):\n",
    "        while True: # this while True .... break idiom is Pythonic for do...while .  Yuk, I agree. \n",
    "            while True:\n",
    "                x1 = randint(0,n_data-1)\n",
    "                x2 = randint(0,n_data-1)\n",
    "                if x1 != x2:\n",
    "                    break\n",
    "            # see if they are same or different, randomly accept\n",
    "            if mnist_labels[x1] == mnist_labels[x2]:\n",
    "                y_train[i,0] = 0\n",
    "                break\n",
    "            else:\n",
    "                if np.random.random() < 0.111111111:\n",
    "                    y_train[i,0] = 1\n",
    "                    break\n",
    "        x_train1[i,:,:,0] = mnist_images[x1]\n",
    "        x_train2[i,:,:,0] = mnist_images[x2]\n",
    "    \n",
    "    return ( [x_train1, x_train2], y_train )"
   ]
  },
  {
   "cell_type": "code",
   "execution_count": 95,
   "metadata": {},
   "outputs": [],
   "source": [
    "pairs_train, py_train = construct_pairs_dataset( 2000, x_train, y_train)\n",
    "pairs_test, py_test = construct_pairs_dataset( 2000, x_test, y_test)"
   ]
  },
  {
   "cell_type": "code",
   "execution_count": 96,
   "metadata": {},
   "outputs": [],
   "source": [
    "pairs0 = pairs_train[0]\n",
    "pairs1 = pairs_train[1]\n"
   ]
  },
  {
   "cell_type": "code",
   "execution_count": 97,
   "metadata": {},
   "outputs": [
    {
     "data": {
      "text/plain": [
       "array([0.])"
      ]
     },
     "execution_count": 97,
     "metadata": {},
     "output_type": "execute_result"
    },
    {
     "data": {
      "image/png": "[encoded data removed]",
      "text/plain": [
       "<Figure size 432x288 with 2 Axes>"
      ]
     },
     "metadata": {
      "needs_background": "light"
     },
     "output_type": "display_data"
    }
   ],
   "source": [
    "idx = 11\n",
    "fig,ax = plt.subplots(nrows=1, ncols=2, sharex=True, sharey=True)\n",
    "ax = ax.flatten()\n",
    "ax[0].imshow( pairs0[idx,:,:,0]) \n",
    "ax[1].imshow( pairs1[idx,:,:,0])\n",
    "py_train[idx]"
   ]
  },
  {
   "cell_type": "code",
   "execution_count": null,
   "metadata": {},
   "outputs": [],
   "source": []
  },
  {
   "cell_type": "code",
   "execution_count": null,
   "metadata": {},
   "outputs": [],
   "source": []
  },
  {
   "cell_type": "code",
   "execution_count": null,
   "metadata": {},
   "outputs": [],
   "source": []
  }
 ],
 "metadata": {
  "kernelspec": {
   "display_name": "Python 3",
   "language": "python",
   "name": "python3"
  },
  "language_info": {
   "codemirror_mode": {
    "name": "ipython",
    "version": 3
   },
   "file_extension": ".py",
   "mimetype": "text/x-python",
   "name": "python",
   "nbconvert_exporter": "python",
   "pygments_lexer": "ipython3",
   "version": "3.6.9"
  }
 },
 "nbformat": 4,
 "nbformat_minor": 2
}
